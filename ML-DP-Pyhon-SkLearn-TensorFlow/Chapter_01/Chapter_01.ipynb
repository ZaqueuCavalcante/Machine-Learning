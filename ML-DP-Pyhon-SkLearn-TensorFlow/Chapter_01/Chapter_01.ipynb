{
 "cells": [
  {
   "cell_type": "markdown",
   "metadata": {},
   "source": [
    "# Chapter 1: Giving Computers the Ability to Learn from Data"
   ]
  },
  {
   "cell_type": "markdown",
   "metadata": {},
   "source": [
    "Os 3 diferentes tipos de ML:\n",
    "- Supervisionado;\n",
    "- Não Supervisionado;\n",
    "- Por Reforço;\n",
    "\n",
    "Probemas de Classificação, Regressão, Agrupamento, Redução de Dimensionalidade...\n",
    "\n",
    "Terminologia:\n",
    "\n",
    "- Training example: uma linha do dataset;\n",
    "- Training: model fitting;\n",
    "- Feature (x): uma coluna do dataset; predictor, variable, input, attribute, or covariate;\n",
    "- Target (y): outcome, output, response variable, dependent variable, (class) label, and ground truth;\n",
    "- Loss Function: cost function, error function;\n",
    "\n",
    "<img src='ML-roadmap.png' width='800'>\n"
   ]
  },
  {
   "cell_type": "code",
   "execution_count": null,
   "metadata": {},
   "outputs": [],
   "source": []
  }
 ],
 "metadata": {
  "kernelspec": {
   "display_name": "Python 3",
   "language": "python",
   "name": "python3"
  },
  "language_info": {
   "codemirror_mode": {
    "name": "ipython",
    "version": 3
   },
   "file_extension": ".py",
   "mimetype": "text/x-python",
   "name": "python",
   "nbconvert_exporter": "python",
   "pygments_lexer": "ipython3",
   "version": "3.7.4"
  }
 },
 "nbformat": 4,
 "nbformat_minor": 4
}
